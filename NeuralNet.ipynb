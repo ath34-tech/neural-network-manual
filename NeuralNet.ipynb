{
 "cells": [
  {
   "cell_type": "code",
   "execution_count": 304,
   "id": "e794bb2c-ed2d-441c-9bc4-075564ff43bf",
   "metadata": {},
   "outputs": [],
   "source": [
    "import numpy as np\n",
    "from graphviz import Digraph\n",
    "import random"
   ]
  },
  {
   "cell_type": "code",
   "execution_count": 457,
   "id": "0a2588e9-6e2a-4fb4-afec-3e38238654ec",
   "metadata": {},
   "outputs": [],
   "source": [
    "class Data:\n",
    "    def __init__(self,data,label=\"\",operation=\"\",children=()):\n",
    "        self.data=data\n",
    "        self.label=label\n",
    "        self.grad=0\n",
    "        self.operation=operation\n",
    "        self.children=set(children)\n",
    "        self._backprop=lambda:None\n",
    "    def __add__(self, other):\n",
    "        other = other if isinstance(other, Data) else Data(other)\n",
    "        out = Data(self.data + other.data, operation=\"addition\", children=(self, other))\n",
    "        \n",
    "        def _backprop():\n",
    "            self.grad += out.grad\n",
    "            other.grad += out.grad\n",
    "        out._backprop = _backprop\n",
    "        return out\n",
    "\n",
    "    def __mul__(self, other):\n",
    "        other = other if isinstance(other, Data) else Data(other)\n",
    "        out = Data(self.data * other.data, operation=\"multiplication\", children=(self, other))\n",
    "        \n",
    "        def _backprop():\n",
    "            self.grad += other.data * out.grad\n",
    "            other.grad += self.data * out.grad\n",
    "        out._backprop = _backprop\n",
    "        return out\n",
    "\n",
    "    def __sub__(self, other):\n",
    "        other = other if isinstance(other, Data) else Data(other)\n",
    "        out = Data(self.data - other.data, operation=\"subtraction\", children=(self, other))\n",
    "        \n",
    "        def _backprop():\n",
    "            self.grad += out.grad\n",
    "            other.grad -= out.grad\n",
    "        out._backprop = _backprop\n",
    "        return out\n",
    "\n",
    "    def __radd__(self, other): # other + self\n",
    "        return self + other\n",
    "        \n",
    "    def __rmul__(self,other):\n",
    "        return self*other\n",
    "    def __pow__(self,other):\n",
    "        out=Data(self.data**other,label=\"\",operation=f\"power of {other}\",children=(self,))\n",
    "        def _backprop():\n",
    "            self.grad += (other * self.data**(other-1)) * out.grad\n",
    "        out._backprop = _backprop\n",
    "        return out\n",
    "    def __repr__(self):\n",
    "        return f\"Data(data={self.data}, grad={self.grad})\"\n",
    "        \n",
    "    def sigmoid(self):\n",
    "        val=1/(1+np.exp(-self.data))\n",
    "        out = Data(val,operation=\"sigmoid\",children=(self,))\n",
    "        def _backprop():\n",
    "            self.grad+=out.grad*(val*(1-val))*out.grad\n",
    "        out._backprop=_backprop\n",
    "        return out\n",
    "\n",
    "    def relu(self):\n",
    "        out=Data(0 if self.data<0 else self.data,operation=\"relu\",children=(self,))\n",
    "        def _backprop():\n",
    "            self.grad += (out.data > 0) * out.grad\n",
    "        out._backprop=_backprop\n",
    "        return out\n",
    "    def elu(self,alpha=0.01):\n",
    "        val=self.data if self.data>0 else (alpha*(np.exp(self.data)-1))\n",
    "        out=Data(val,operation=\"elu\",children=(self,))\n",
    "        def _backprop():\n",
    "            self.grad+=(1 if self.data>0 else (alpha*np.exp(self.data)))*out.grad\n",
    "        out._backprop=_backprop\n",
    "        return out\n",
    "    def leaky_relu(self,alpha=0.01):\n",
    "        val=np.where(self.data>0,self.data,self.data*alpha)\n",
    "        out=Data(val,operation=\"leaky_relu\",children=(self,))\n",
    "        def _backprop():\n",
    "            self.grad+=(1 if self.data>0 else alpha)*out.grad\n",
    "        out._backprop=_backprop\n",
    "        return out\n",
    "\n",
    "    def back_prop(self):\n",
    "        topo = []\n",
    "        visited = set()\n",
    "\n",
    "        def build_topo(v):\n",
    "            if v not in visited:\n",
    "                visited.add(v)\n",
    "                for child in v.children:\n",
    "                    build_topo(child)\n",
    "                topo.append(v)\n",
    "\n",
    "        build_topo(self)\n",
    "        self.grad = 1\n",
    "        for v in reversed(topo):\n",
    "            v._backprop()"
   ]
  },
  {
   "cell_type": "code",
   "execution_count": 458,
   "id": "1c7c4137-da81-432e-801d-0743f4130d47",
   "metadata": {},
   "outputs": [],
   "source": [
    "x1=Data(2)\n",
    "x2=Data(3)\n",
    "x3=x1+x2\n",
    "x4=Data(8)\n",
    "x5=x4*x3\n",
    "x6=Data(7)\n",
    "out=x5*x6\n"
   ]
  },
  {
   "cell_type": "code",
   "execution_count": 459,
   "id": "7b461bf1-eeba-40ad-b085-9699fd35eb2a",
   "metadata": {},
   "outputs": [
    {
     "data": {
      "text/plain": [
       "280"
      ]
     },
     "execution_count": 459,
     "metadata": {},
     "output_type": "execute_result"
    }
   ],
   "source": [
    "out.data"
   ]
  },
  {
   "cell_type": "code",
   "execution_count": 460,
   "id": "1f0d6228-d13c-4174-9665-bdfb40caad9a",
   "metadata": {},
   "outputs": [],
   "source": [
    "def trace(root):\n",
    "    nodes, edges = set(), set()\n",
    "    def build(v):\n",
    "        if v not in nodes:\n",
    "            nodes.add(v)\n",
    "            for child in v.children:\n",
    "                edges.add((child, v))\n",
    "                build(child)\n",
    "    build(root)\n",
    "    return nodes, edges\n"
   ]
  },
  {
   "cell_type": "code",
   "execution_count": 461,
   "id": "d50900a0-5485-4b45-9e16-3a263779bf81",
   "metadata": {},
   "outputs": [],
   "source": [
    "nodes,edges=trace(out)"
   ]
  },
  {
   "cell_type": "code",
   "execution_count": 462,
   "id": "52905758-485d-4107-b0e6-a6ffda6d8940",
   "metadata": {},
   "outputs": [],
   "source": [
    "def draw_dot(root, format='svg', rankdir='LR'):\n",
    "\n",
    "    assert rankdir in ['LR', 'TB']\n",
    "    nodes, edges = trace(root)\n",
    "    dot = Digraph(format=format, graph_attr={'rankdir': rankdir})\n",
    "    \n",
    "    for n in nodes:\n",
    "        dot.node(name=str(id(n)), label = \"{ data %.4f | grad %.4f }\" % (n.data,n.grad), shape='record')\n",
    "        if n.operation:\n",
    "            dot.node(name=str(id(n)) + n.operation, label=n.operation)\n",
    "            dot.edge(str(id(n)) + n.operation, str(id(n)))\n",
    "    \n",
    "    for n1, n2 in edges:\n",
    "        dot.edge(str(id(n1)), str(id(n2)) + n2.operation)\n",
    "    \n",
    "    return dot"
   ]
  },
  {
   "cell_type": "code",
   "execution_count": 463,
   "id": "99a63786-2c56-4319-bcf7-b9992b43fc15",
   "metadata": {},
   "outputs": [
    {
     "data": {
      "image/svg+xml": [
       "<?xml version=\"1.0\" encoding=\"UTF-8\" standalone=\"no\"?>\n",
       "<!DOCTYPE svg PUBLIC \"-//W3C//DTD SVG 1.1//EN\"\n",
       " \"http://www.w3.org/Graphics/SVG/1.1/DTD/svg11.dtd\">\n",
       "<!-- Generated by graphviz version 12.1.0 (20240811.2233)\n",
       " -->\n",
       "<!-- Pages: 1 -->\n",
       "<svg width=\"1223pt\" height=\"154pt\"\n",
       " viewBox=\"0.00 0.00 1222.97 154.00\" xmlns=\"http://www.w3.org/2000/svg\" xmlns:xlink=\"http://www.w3.org/1999/xlink\">\n",
       "<g id=\"graph0\" class=\"graph\" transform=\"scale(1 1) rotate(0) translate(4 150)\">\n",
       "<polygon fill=\"white\" stroke=\"none\" points=\"-4,4 -4,-150 1218.97,-150 1218.97,4 -4,4\"/>\n",
       "<!-- 2623427339792 -->\n",
       "<g id=\"node1\" class=\"node\">\n",
       "<title>2623427339792</title>\n",
       "<polygon fill=\"none\" stroke=\"black\" points=\"1040.47,-81.5 1040.47,-117.5 1214.97,-117.5 1214.97,-81.5 1040.47,-81.5\"/>\n",
       "<text text-anchor=\"middle\" x=\"1087.1\" y=\"-94.7\" font-family=\"Times New Roman,serif\" font-size=\"14.00\">data 280.0000</text>\n",
       "<polyline fill=\"none\" stroke=\"black\" points=\"1133.72,-82 1133.72,-117.5\"/>\n",
       "<text text-anchor=\"middle\" x=\"1174.35\" y=\"-94.7\" font-family=\"Times New Roman,serif\" font-size=\"14.00\">grad 0.0000</text>\n",
       "</g>\n",
       "<!-- 2623427339792multiplication -->\n",
       "<g id=\"node2\" class=\"node\">\n",
       "<title>2623427339792multiplication</title>\n",
       "<ellipse fill=\"none\" stroke=\"black\" cx=\"941.35\" cy=\"-99.5\" rx=\"63.12\" ry=\"18\"/>\n",
       "<text text-anchor=\"middle\" x=\"941.35\" y=\"-94.45\" font-family=\"Times New Roman,serif\" font-size=\"14.00\">multiplication</text>\n",
       "</g>\n",
       "<!-- 2623427339792multiplication&#45;&gt;2623427339792 -->\n",
       "<g id=\"edge1\" class=\"edge\">\n",
       "<title>2623427339792multiplication&#45;&gt;2623427339792</title>\n",
       "<path fill=\"none\" stroke=\"black\" d=\"M1004.77,-99.5C1012.51,-99.5 1020.56,-99.5 1028.68,-99.5\"/>\n",
       "<polygon fill=\"black\" stroke=\"black\" points=\"1028.65,-103 1038.65,-99.5 1028.65,-96 1028.65,-103\"/>\n",
       "</g>\n",
       "<!-- 2623427341904 -->\n",
       "<g id=\"node3\" class=\"node\">\n",
       "<title>2623427341904</title>\n",
       "<polygon fill=\"none\" stroke=\"black\" points=\"677.85,-109.5 677.85,-145.5 838.85,-145.5 838.85,-109.5 677.85,-109.5\"/>\n",
       "<text text-anchor=\"middle\" x=\"717.73\" y=\"-122.7\" font-family=\"Times New Roman,serif\" font-size=\"14.00\">data 7.0000</text>\n",
       "<polyline fill=\"none\" stroke=\"black\" points=\"757.6,-110 757.6,-145.5\"/>\n",
       "<text text-anchor=\"middle\" x=\"798.23\" y=\"-122.7\" font-family=\"Times New Roman,serif\" font-size=\"14.00\">grad 0.0000</text>\n",
       "</g>\n",
       "<!-- 2623427341904&#45;&gt;2623427339792multiplication -->\n",
       "<g id=\"edge7\" class=\"edge\">\n",
       "<title>2623427341904&#45;&gt;2623427339792multiplication</title>\n",
       "<path fill=\"none\" stroke=\"black\" d=\"M839.27,-115.14C850.84,-113.35 862.66,-111.52 873.93,-109.78\"/>\n",
       "<polygon fill=\"black\" stroke=\"black\" points=\"874.15,-113.28 883.5,-108.29 873.08,-106.36 874.15,-113.28\"/>\n",
       "</g>\n",
       "<!-- 2623427342000 -->\n",
       "<g id=\"node4\" class=\"node\">\n",
       "<title>2623427342000</title>\n",
       "<polygon fill=\"none\" stroke=\"black\" points=\"0,-55.5 0,-91.5 161,-91.5 161,-55.5 0,-55.5\"/>\n",
       "<text text-anchor=\"middle\" x=\"39.88\" y=\"-68.7\" font-family=\"Times New Roman,serif\" font-size=\"14.00\">data 2.0000</text>\n",
       "<polyline fill=\"none\" stroke=\"black\" points=\"79.75,-56 79.75,-91.5\"/>\n",
       "<text text-anchor=\"middle\" x=\"120.38\" y=\"-68.7\" font-family=\"Times New Roman,serif\" font-size=\"14.00\">grad 0.0000</text>\n",
       "</g>\n",
       "<!-- 2623427340080addition -->\n",
       "<g id=\"node8\" class=\"node\">\n",
       "<title>2623427340080addition</title>\n",
       "<ellipse fill=\"none\" stroke=\"black\" cx=\"238.12\" cy=\"-45.5\" rx=\"41.12\" ry=\"18\"/>\n",
       "<text text-anchor=\"middle\" x=\"238.12\" y=\"-40.45\" font-family=\"Times New Roman,serif\" font-size=\"14.00\">addition</text>\n",
       "</g>\n",
       "<!-- 2623427342000&#45;&gt;2623427340080addition -->\n",
       "<g id=\"edge9\" class=\"edge\">\n",
       "<title>2623427342000&#45;&gt;2623427340080addition</title>\n",
       "<path fill=\"none\" stroke=\"black\" d=\"M161.13,-59.17C170.49,-57.49 179.81,-55.81 188.56,-54.24\"/>\n",
       "<polygon fill=\"black\" stroke=\"black\" points=\"188.97,-57.72 198.19,-52.5 187.73,-50.83 188.97,-57.72\"/>\n",
       "</g>\n",
       "<!-- 2623427341040 -->\n",
       "<g id=\"node5\" class=\"node\">\n",
       "<title>2623427341040</title>\n",
       "<polygon fill=\"none\" stroke=\"black\" points=\"0,-0.5 0,-36.5 161,-36.5 161,-0.5 0,-0.5\"/>\n",
       "<text text-anchor=\"middle\" x=\"39.88\" y=\"-13.7\" font-family=\"Times New Roman,serif\" font-size=\"14.00\">data 3.0000</text>\n",
       "<polyline fill=\"none\" stroke=\"black\" points=\"79.75,-1 79.75,-36.5\"/>\n",
       "<text text-anchor=\"middle\" x=\"120.38\" y=\"-13.7\" font-family=\"Times New Roman,serif\" font-size=\"14.00\">grad 0.0000</text>\n",
       "</g>\n",
       "<!-- 2623427341040&#45;&gt;2623427340080addition -->\n",
       "<g id=\"edge5\" class=\"edge\">\n",
       "<title>2623427341040&#45;&gt;2623427340080addition</title>\n",
       "<path fill=\"none\" stroke=\"black\" d=\"M161.13,-32.32C170.28,-33.9 179.4,-35.49 187.98,-36.97\"/>\n",
       "<polygon fill=\"black\" stroke=\"black\" points=\"187.35,-40.42 197.8,-38.68 188.54,-33.52 187.35,-40.42\"/>\n",
       "</g>\n",
       "<!-- 2623427340032 -->\n",
       "<g id=\"node6\" class=\"node\">\n",
       "<title>2623427340032</title>\n",
       "<polygon fill=\"none\" stroke=\"black\" points=\"315.23,-82.5 315.23,-118.5 476.23,-118.5 476.23,-82.5 315.23,-82.5\"/>\n",
       "<text text-anchor=\"middle\" x=\"355.11\" y=\"-95.7\" font-family=\"Times New Roman,serif\" font-size=\"14.00\">data 8.0000</text>\n",
       "<polyline fill=\"none\" stroke=\"black\" points=\"394.98,-83 394.98,-118.5\"/>\n",
       "<text text-anchor=\"middle\" x=\"435.61\" y=\"-95.7\" font-family=\"Times New Roman,serif\" font-size=\"14.00\">grad 0.0000</text>\n",
       "</g>\n",
       "<!-- 2623427342144multiplication -->\n",
       "<g id=\"node10\" class=\"node\">\n",
       "<title>2623427342144multiplication</title>\n",
       "<ellipse fill=\"none\" stroke=\"black\" cx=\"575.35\" cy=\"-72.5\" rx=\"63.12\" ry=\"18\"/>\n",
       "<text text-anchor=\"middle\" x=\"575.35\" y=\"-67.45\" font-family=\"Times New Roman,serif\" font-size=\"14.00\">multiplication</text>\n",
       "</g>\n",
       "<!-- 2623427340032&#45;&gt;2623427342144multiplication -->\n",
       "<g id=\"edge4\" class=\"edge\">\n",
       "<title>2623427340032&#45;&gt;2623427342144multiplication</title>\n",
       "<path fill=\"none\" stroke=\"black\" d=\"M476.71,-87.89C487.15,-86.25 497.75,-84.58 507.93,-82.97\"/>\n",
       "<polygon fill=\"black\" stroke=\"black\" points=\"508.39,-86.44 517.72,-81.43 507.3,-79.53 508.39,-86.44\"/>\n",
       "</g>\n",
       "<!-- 2623427340080 -->\n",
       "<g id=\"node7\" class=\"node\">\n",
       "<title>2623427340080</title>\n",
       "<polygon fill=\"none\" stroke=\"black\" points=\"315.23,-27.5 315.23,-63.5 476.23,-63.5 476.23,-27.5 315.23,-27.5\"/>\n",
       "<text text-anchor=\"middle\" x=\"355.11\" y=\"-40.7\" font-family=\"Times New Roman,serif\" font-size=\"14.00\">data 5.0000</text>\n",
       "<polyline fill=\"none\" stroke=\"black\" points=\"394.98,-28 394.98,-63.5\"/>\n",
       "<text text-anchor=\"middle\" x=\"435.61\" y=\"-40.7\" font-family=\"Times New Roman,serif\" font-size=\"14.00\">grad 0.0000</text>\n",
       "</g>\n",
       "<!-- 2623427340080&#45;&gt;2623427342144multiplication -->\n",
       "<g id=\"edge8\" class=\"edge\">\n",
       "<title>2623427340080&#45;&gt;2623427342144multiplication</title>\n",
       "<path fill=\"none\" stroke=\"black\" d=\"M476.71,-57.66C487.08,-59.23 497.61,-60.83 507.73,-62.37\"/>\n",
       "<polygon fill=\"black\" stroke=\"black\" points=\"507.05,-65.81 517.46,-63.85 508.1,-58.89 507.05,-65.81\"/>\n",
       "</g>\n",
       "<!-- 2623427340080addition&#45;&gt;2623427340080 -->\n",
       "<g id=\"edge2\" class=\"edge\">\n",
       "<title>2623427340080addition&#45;&gt;2623427340080</title>\n",
       "<path fill=\"none\" stroke=\"black\" d=\"M279.6,-45.5C287.09,-45.5 295.18,-45.5 303.49,-45.5\"/>\n",
       "<polygon fill=\"black\" stroke=\"black\" points=\"303.4,-49 313.4,-45.5 303.4,-42 303.4,-49\"/>\n",
       "</g>\n",
       "<!-- 2623427342144 -->\n",
       "<g id=\"node9\" class=\"node\">\n",
       "<title>2623427342144</title>\n",
       "<polygon fill=\"none\" stroke=\"black\" points=\"674.48,-54.5 674.48,-90.5 842.23,-90.5 842.23,-54.5 674.48,-54.5\"/>\n",
       "<text text-anchor=\"middle\" x=\"717.73\" y=\"-67.7\" font-family=\"Times New Roman,serif\" font-size=\"14.00\">data 40.0000</text>\n",
       "<polyline fill=\"none\" stroke=\"black\" points=\"760.98,-55 760.98,-90.5\"/>\n",
       "<text text-anchor=\"middle\" x=\"801.6\" y=\"-67.7\" font-family=\"Times New Roman,serif\" font-size=\"14.00\">grad 0.0000</text>\n",
       "</g>\n",
       "<!-- 2623427342144&#45;&gt;2623427339792multiplication -->\n",
       "<g id=\"edge6\" class=\"edge\">\n",
       "<title>2623427342144&#45;&gt;2623427339792multiplication</title>\n",
       "<path fill=\"none\" stroke=\"black\" d=\"M842.7,-84.93C853.01,-86.47 863.45,-88.03 873.47,-89.52\"/>\n",
       "<polygon fill=\"black\" stroke=\"black\" points=\"872.68,-92.94 883.09,-90.96 873.71,-86.02 872.68,-92.94\"/>\n",
       "</g>\n",
       "<!-- 2623427342144multiplication&#45;&gt;2623427342144 -->\n",
       "<g id=\"edge3\" class=\"edge\">\n",
       "<title>2623427342144multiplication&#45;&gt;2623427342144</title>\n",
       "<path fill=\"none\" stroke=\"black\" d=\"M638.9,-72.5C646.61,-72.5 654.61,-72.5 662.67,-72.5\"/>\n",
       "<polygon fill=\"black\" stroke=\"black\" points=\"662.54,-76 672.54,-72.5 662.54,-69 662.54,-76\"/>\n",
       "</g>\n",
       "</g>\n",
       "</svg>\n"
      ],
      "text/plain": [
       "<graphviz.graphs.Digraph at 0x262d0796d60>"
      ]
     },
     "execution_count": 463,
     "metadata": {},
     "output_type": "execute_result"
    }
   ],
   "source": [
    "draw_dot(out)"
   ]
  },
  {
   "cell_type": "code",
   "execution_count": 464,
   "id": "6a4afec1-0217-4a41-af8b-bcaad81a4b58",
   "metadata": {},
   "outputs": [],
   "source": [
    "out.back_prop()"
   ]
  },
  {
   "cell_type": "code",
   "execution_count": 465,
   "id": "24004f71-2ab8-430f-98ca-909784507734",
   "metadata": {},
   "outputs": [],
   "source": [
    "class Neuron:\n",
    "    def __init__(self,n_inputs):\n",
    "        self.weights=[Data(random.uniform(-1,1)) for _ in range(n_inputs)]\n",
    "        self.b=Data(random.uniform(-1,1)) \n",
    "    def __call__(self,x,act_func=\"relu\"):\n",
    "        x = [Data(xi) if not isinstance(xi, Data) else xi for xi in x]\n",
    "        act = sum((wi*xi for wi,xi in zip(self.weights, x)), self.b)\n",
    "        if act_func==\"relu\":\n",
    "            out=act.relu()\n",
    "        if act_func==\"sigmoid\":\n",
    "            out=act.sigmoid()\n",
    "        if act_func==\"elu\":\n",
    "            out=act.elu()\n",
    "        if act_func==\"leaky_relu\":\n",
    "            out=act.leaky_relu()\n",
    "        return out\n",
    "    def parameters(self):\n",
    "        return self.weights+[self.b]"
   ]
  },
  {
   "cell_type": "code",
   "execution_count": 466,
   "id": "e758681d-30ca-4f01-ae19-4db0ce1ddf3a",
   "metadata": {},
   "outputs": [],
   "source": [
    "class Layer:\n",
    "    def __init__(self,n_inputs,n_outputs):\n",
    "        self.neurons=[Neuron(n_inputs) for _ in range(n_outputs)]\n",
    "    def __call__(self,x,act_func=\"relu\"):\n",
    "        outs=[n(x,act_func=act_func) for n in self.neurons]\n",
    "        return outs[0] if len(outs) == 1 else outs\n",
    "\n",
    "    def parameters(self):\n",
    "        return [p for neuron in self.neurons for p in neuron.parameters()]"
   ]
  },
  {
   "cell_type": "code",
   "execution_count": 467,
   "id": "933e6bf7-8e4b-44a2-89e5-3692a80e93e4",
   "metadata": {},
   "outputs": [],
   "source": [
    "class MLP:\n",
    "    def __init__(self,n_inputs,n_outputs):\n",
    "        sz=[n_inputs]+n_outputs\n",
    "        self.layers=[Layer(sz[i],sz[i+1]) for i in range(len(n_outputs))]\n",
    "    def __call__(self,x,act_func=\"relu\",act_funcs=[]):\n",
    "        if len(act_funcs)==0:\n",
    "            for layer in self.layers:\n",
    "                x=layer(x,act_func=act_func)\n",
    "            return x\n",
    "\n",
    "        else:\n",
    "            for i in len(self.layers):\n",
    "                x=self.layers[i](x,act_func=act_funcs[i])\n",
    "            return x\n",
    "    def parameters(self):\n",
    "        return [p for layer in self.layers for p in layer.parameters()]"
   ]
  },
  {
   "cell_type": "code",
   "execution_count": 468,
   "id": "6b4b5ebd-6d3d-45ad-b018-60c4a6c7945d",
   "metadata": {},
   "outputs": [],
   "source": [
    "x = [2.0,3.0,6.0]  # Make sure x is a list of Data objects\n",
    "n=MLP(3,[4,4,1])"
   ]
  },
  {
   "cell_type": "markdown",
   "id": "ed24e114-c135-4bfe-94a9-7eccd57e7a09",
   "metadata": {},
   "source": [
    "### Training"
   ]
  },
  {
   "cell_type": "code",
   "execution_count": 469,
   "id": "70ee3bd9-f565-4670-9a58-1a55cd99ffaf",
   "metadata": {},
   "outputs": [],
   "source": [
    "# Update weights\n",
    "def update_weights(model, learning_rate):\n",
    "    for layer in model.layers:\n",
    "        for neuron in layer.neurons:\n",
    "            for weight in neuron.weights:\n",
    "                weight.data -= learning_rate * weight.grad\n",
    "                weight.grad = 0  # Reset gradient after update\n",
    "            neuron.b.data -= learning_rate * neuron.b.grad\n",
    "            neuron.b.grad = 0  # Reset gradient after update\n",
    "\n",
    "# Apply the weight update\n",
    "update_weights(n, learning_rate)"
   ]
  },
  {
   "cell_type": "code",
   "execution_count": 470,
   "id": "88d294ba-3089-4332-8bcb-e4e9d1e1d409",
   "metadata": {},
   "outputs": [
    {
     "data": {
      "text/plain": [
       "Data(data=0.06392924371556831, grad=0)"
      ]
     },
     "execution_count": 470,
     "metadata": {},
     "output_type": "execute_result"
    }
   ],
   "source": [
    "x = [2.0, 3.0, 6.0]  # Input data\n",
    "y = [0.5]  # Target output data\n",
    "\n",
    "# MLP model initialization\n",
    "n = MLP(3, [4, 4, 1])\n",
    "\n",
    "# Forward pass\n",
    "ypred = n(x)\n",
    "\n",
    "# Compute loss\n",
    "loss = (ypred - Data(y[0]))**2\n",
    "loss"
   ]
  },
  {
   "cell_type": "code",
   "execution_count": 471,
   "id": "2dc7c2c0-2d50-45b6-8f2d-c0b9ab9a1946",
   "metadata": {},
   "outputs": [],
   "source": [
    "# Backpropagation\n",
    "loss.back_prop()\n",
    "\n",
    "# Update weights\n",
    "update_weights(n, learning_rate=0.01)"
   ]
  },
  {
   "cell_type": "code",
   "execution_count": 472,
   "id": "bd81b296-ef51-40ae-824b-2495ec28e0df",
   "metadata": {},
   "outputs": [
    {
     "data": {
      "text/plain": [
       "Data(data=0.0026889217521767175, grad=0)"
      ]
     },
     "execution_count": 472,
     "metadata": {},
     "output_type": "execute_result"
    }
   ],
   "source": [
    "ypred2 = n(x)\n",
    "loss2 = (ypred2 - Data(y[0]))**2\n",
    "\n",
    "loss2"
   ]
  },
  {
   "cell_type": "code",
   "execution_count": 487,
   "id": "6321b72e-fbad-4d43-95f9-43bb41c5b014",
   "metadata": {},
   "outputs": [],
   "source": [
    "model=MLP(3,[4,4,1])\n",
    "xs=[\n",
    "    [2,3,8],\n",
    "    [5,11,12],\n",
    "    [8,9,10]\n",
    "]\n",
    "y=[1,2,-1]"
   ]
  },
  {
   "cell_type": "code",
   "execution_count": 488,
   "id": "2449c46c-97e2-46aa-9d46-24daa6cbd774",
   "metadata": {},
   "outputs": [],
   "source": [
    "ypred=[model(i) for i in xs]"
   ]
  },
  {
   "cell_type": "code",
   "execution_count": 489,
   "id": "dd78bad2-5bc5-4676-a0eb-0b3d9988d486",
   "metadata": {},
   "outputs": [
    {
     "data": {
      "text/plain": [
       "[Data(data=0.5832097934095475, grad=0),\n",
       " Data(data=0, grad=0),\n",
       " Data(data=0, grad=0)]"
      ]
     },
     "execution_count": 489,
     "metadata": {},
     "output_type": "execute_result"
    }
   ],
   "source": [
    "ypred"
   ]
  },
  {
   "cell_type": "code",
   "execution_count": 490,
   "id": "01a774b5-7e91-4132-af9e-f355dce24cfb",
   "metadata": {},
   "outputs": [],
   "source": [
    "loss=sum((yp-Data(yo))**2 for yp,yo in zip(ypred,y))"
   ]
  },
  {
   "cell_type": "code",
   "execution_count": 491,
   "id": "77f64443-3e28-47dc-b28e-c0d343414ba2",
   "metadata": {},
   "outputs": [
    {
     "data": {
      "text/plain": [
       "Data(data=5.173714076309712, grad=0)"
      ]
     },
     "execution_count": 491,
     "metadata": {},
     "output_type": "execute_result"
    }
   ],
   "source": [
    "loss"
   ]
  },
  {
   "cell_type": "code",
   "execution_count": 492,
   "id": "537c5535-d3ed-442b-ba13-402fe7f64937",
   "metadata": {},
   "outputs": [],
   "source": [
    "loss.back_prop()"
   ]
  },
  {
   "cell_type": "code",
   "execution_count": 493,
   "id": "4fb2faa6-dc5d-403d-83d1-1de9c26f6d8b",
   "metadata": {},
   "outputs": [],
   "source": [
    "update_weights(model, learning_rate=0.01)"
   ]
  },
  {
   "cell_type": "code",
   "execution_count": 494,
   "id": "bab7aea3-7d73-4be4-a0d8-8e00b3da9e8d",
   "metadata": {},
   "outputs": [
    {
     "data": {
      "text/plain": [
       "Data(data=5.145482062641628, grad=0)"
      ]
     },
     "execution_count": 494,
     "metadata": {},
     "output_type": "execute_result"
    }
   ],
   "source": [
    "ypred2=[model(i) for i in xs]\n",
    "loss2=sum((yp-Data(yo))**2 for yp,yo in zip(ypred2,y))\n",
    "loss2"
   ]
  },
  {
   "cell_type": "code",
   "execution_count": null,
   "id": "5b054da0-2f5e-44ec-86d7-99e3dfa79a30",
   "metadata": {},
   "outputs": [],
   "source": []
  }
 ],
 "metadata": {
  "kernelspec": {
   "display_name": "Python 3 (ipykernel)",
   "language": "python",
   "name": "python3"
  },
  "language_info": {
   "codemirror_mode": {
    "name": "ipython",
    "version": 3
   },
   "file_extension": ".py",
   "mimetype": "text/x-python",
   "name": "python",
   "nbconvert_exporter": "python",
   "pygments_lexer": "ipython3",
   "version": "3.8.2"
  }
 },
 "nbformat": 4,
 "nbformat_minor": 5
}
